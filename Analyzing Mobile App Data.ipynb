{
 "cells": [
  {
   "cell_type": "markdown",
   "id": "2af7f4fd",
   "metadata": {},
   "source": [
    "# Successful App Models for the App Store and Google Play Markets"
   ]
  },
  {
   "cell_type": "markdown",
   "id": "2fc8546d",
   "metadata": {},
   "source": [
    "1. This data analysis project focused on understanding the key factors that attract users to our free mobile apps within the Anroid and IOS ecosystems. As our company relies on in-app advertisements for revenue generation, mazimizing our user base is essential. By diving into our app usage data, we aim to identify the types of apps that consistently gain popularity and draw in larger audiences.\n",
    "2. The goal of this project is straightforward: we want to provide our developers with data-driven insights into the characteristics of successful apps. These insights will help guide future development decesions, enabling us to create apps that are more likely to capture a wider user base and ultimately increase our advertising revenue."
   ]
  },
  {
   "cell_type": "markdown",
   "id": "9d8d4549",
   "metadata": {},
   "source": [
    "# 1. Opening & Exploring the Data"
   ]
  },
  {
   "cell_type": "markdown",
   "id": "6e07a025",
   "metadata": {},
   "source": [
    "As of September 2018, the App Store hosted around 2 million iOS applications, while Google Play had about 2.1 million Android applications. Given the extensive time and financial investment required to gather data on over 4 million applications, it’s more practical to examine a subset of the data. To conserve resources, we will explore available data that can be accessed at no cost before considering the collection of new data. We have two datasets that align with our objectives:\n",
    "\n",
    "A dataset detailing approximately 10,000 Android apps from Google Play, collected in August 2018.\n",
    "- Application name: The name of the application\n",
    "- Category: The category the app belongs to\n",
    "- Rating: Overall user rating of the app (as when scraped)\n",
    "- Reviews: Number of user reviews for the app (as when scraped)\n",
    "- Size: Size of the app (as when scraped)\n",
    "- Installs: Number of user downloads/installs for the app (as when scraped)\n",
    "- Type: Whether the app is Paid or Free\n",
    "- Price: Price of the app (as when scraped)\n",
    "- Content Rating: Age group the app is targeted at - Children / Mature 21+ / Adult\n",
    "- Genres: Genres the app belongs to (apart from its main category)\n",
    "\n",
    "A dataset with information on roughly 7,000 iOS apps from the App Store, gathered in July 2017.\n",
    "- id: App ID\n",
    "- track_name: App Name\n",
    "- size_bytes: Size (in Bytes)\n",
    "- currency: Currency Type\n",
    "- price: Price amount\n",
    "- rating_count_tot: User Rating counts (for all versions)\n",
    "- rating_count_ver: User Rating counts (for current version)\n",
    "- user_rating: Average User Rating value (for all versions)\n",
    "- user_rating_ver: Average User Rating value (for current version)\n",
    "- ver: Latest version code\n",
    "- cont_rating: Content Rating\n",
    "- prime_genre: Primary Genre\n",
    "- sup_devices.num: Number of supporting devices\n",
    "- ipadSc_urls.num: Number of screenshots showed for display\n",
    "- lang.num: Number of supported languages\n",
    "- vpp_lic: Vpp Device Based Licensing Enabled"
   ]
  },
  {
   "cell_type": "code",
   "execution_count": 35,
   "id": "e67de795",
   "metadata": {},
   "outputs": [],
   "source": [
    "from csv import reader"
   ]
  },
  {
   "cell_type": "code",
   "execution_count": 86,
   "id": "21c0c381",
   "metadata": {},
   "outputs": [],
   "source": [
    "# The google play dataset:\n",
    "opened_file = open('C:\\\\Users\\\\PC\\\\Desktop\\\\DA PROJECT\\\\Mobile Apps Data\\\\googleplaystore.csv',encoding=\"utf8\")\n",
    "read_file = reader(opened_file)\n",
    "android = list(read_file)\n",
    "android_header = android[0]\n",
    "android = android[1:]\n",
    "\n",
    "# The App Store dataset:\n",
    "opened_file = open('C:\\\\Users\\\\PC\\\\Desktop\\\\DA PROJECT\\\\Mobile Apps Data\\\\AppleStore.csv',encoding=\"utf8\")\n",
    "read_file = reader(opened_file)\n",
    "ios = list(read_file)\n",
    "ios_header = IOS[0]\n",
    "ios = ios[1:]"
   ]
  },
  {
   "cell_type": "markdown",
   "id": "d5e47f23",
   "metadata": {},
   "source": [
    "To simplify the examination of the two datasets, we develop a function called explore_data(). This function enables us to consistently investigate rows more clearly. Additionally, we incorporate a feature that allows this function to display the count of rows and columns for any dataset."
   ]
  },
  {
   "cell_type": "code",
   "execution_count": 87,
   "id": "1aa5b40b",
   "metadata": {},
   "outputs": [],
   "source": [
    "def explore_data(dataset, start, end, rows_and_columns = False):\n",
    "    data_slice = dataset[start:end]\n",
    "    for row in data_slice:\n",
    "        print(row)\n",
    "        print('\\n')\n",
    "    if rows_and_columns:\n",
    "        print('Number of rows:', len(dataset))\n",
    "        print('Number of columnns', len(dataset[0]))"
   ]
  },
  {
   "cell_type": "markdown",
   "id": "d42e590a",
   "metadata": {},
   "source": [
    "Let's start with exploring the iOS data."
   ]
  },
  {
   "cell_type": "code",
   "execution_count": 89,
   "id": "f261d4df",
   "metadata": {},
   "outputs": [
    {
     "name": "stdout",
     "output_type": "stream",
     "text": [
      "['284882215', 'Facebook', '389879808', 'USD', '0', '2974676', '212', '3.5', '3.5', '95', '4+', 'Social Networking', '37', '1', '29', '1']\n",
      "\n",
      "\n",
      "['284882215', 'Facebook', '389879808', 'USD', '0', '2974676', '212', '3.5', '3.5', '95', '4+', 'Social Networking', '37', '1', '29', '1']\n",
      "\n",
      "\n",
      "['389801252', 'Instagram', '113954816', 'USD', '0', '2161558', '1289', '4.5', '4', '10.23', '12+', 'Photo & Video', '37', '0', '29', '1']\n",
      "\n",
      "\n",
      "['529479190', 'Clash of Clans', '116476928', 'USD', '0', '2130805', '579', '4.5', '4.5', '9.24.12', '9+', 'Games', '38', '5', '18', '1']\n",
      "\n",
      "\n",
      "Number of rows: 7197\n",
      "Number of columnns 16\n"
     ]
    }
   ],
   "source": [
    "print(ios_header) \n",
    "print('\\n')\n",
    "explore_data(ios,0,3,rows_and_columns=True)"
   ]
  },
  {
   "cell_type": "markdown",
   "id": "d1cba595",
   "metadata": {},
   "source": [
    "Based on the above snapshot, the most interesting data points in the iOS data set seems to be track_name, currency, price, rating_count_tot, rating_count_ver, and prime_genre."
   ]
  },
  {
   "cell_type": "markdown",
   "id": "63613c44",
   "metadata": {},
   "source": [
    "We continue with exploring Android data."
   ]
  },
  {
   "cell_type": "code",
   "execution_count": 91,
   "id": "cd826edd",
   "metadata": {},
   "outputs": [
    {
     "name": "stdout",
     "output_type": "stream",
     "text": [
      "['App', 'Category', 'Rating', 'Reviews', 'Size', 'Installs', 'Type', 'Price', 'Content Rating', 'Genres', 'Last Updated', 'Current Ver', 'Android Ver']\n",
      "\n",
      "\n",
      "['Photo Editor & Candy Camera & Grid & ScrapBook', 'ART_AND_DESIGN', '4.1', '159', '19M', '10,000+', 'Free', '0', 'Everyone', 'Art & Design', '7-Jan-18', '1.0.0', '4.0.3 and up']\n",
      "\n",
      "\n",
      "['Coloring book moana', 'ART_AND_DESIGN', '3.9', '967', '14M', '500,000+', 'Free', '0', 'Everyone', 'Art & Design;Pretend Play', '15-Jan-18', '2.0.0', '4.0.3 and up']\n",
      "\n",
      "\n",
      "['U Launcher Lite – FREE Live Cool Themes, Hide Apps', 'ART_AND_DESIGN', '4.7', '87510', '8.7M', '5,000,000+', 'Free', '0', 'Everyone', 'Art & Design', '1-Aug-18', '1.2.4', '4.0.3 and up']\n",
      "\n",
      "\n",
      "Number of rows: 10840\n",
      "Number of columnns 13\n"
     ]
    }
   ],
   "source": [
    "print(android_header) \n",
    "print('\\n')\n",
    "explore_data(android,0,3,rows_and_columns=True)"
   ]
  },
  {
   "cell_type": "markdown",
   "id": "a1e7a7b0",
   "metadata": {},
   "source": [
    "In the Adroid data set the most interesting data points seems for the analysis seems to be App, Category, Rating, Reviews, Price, and Content Rating."
   ]
  },
  {
   "cell_type": "markdown",
   "id": "71860a58",
   "metadata": {},
   "source": [
    "# 2. Delete Wrong Data"
   ]
  },
  {
   "cell_type": "markdown",
   "id": "20d02b41",
   "metadata": {},
   "source": [
    "The Android dataset includes a discrepancy in row 10472. Let's examine this particular row, assess it alongside the header, and evaluate it against another row that is known to be accurate."
   ]
  },
  {
   "cell_type": "code",
   "execution_count": 38,
   "id": "47cc8004",
   "metadata": {},
   "outputs": [
    {
     "name": "stdout",
     "output_type": "stream",
     "text": [
      "['osmino Wi-Fi: free WiFi', 'TOOLS', '4.2', '134203', '4.1M', '10,000,000+', 'Free', '0', 'Everyone', 'Tools', '7-Aug-18', '6.06.14', '4.4 and up']\n",
      "\n",
      "\n",
      "['App', 'Category', 'Rating', 'Reviews', 'Size', 'Installs', 'Type', 'Price', 'Content Rating', 'Genres', 'Last Updated', 'Current Ver', 'Android Ver']\n",
      "\n",
      "\n",
      "['Photo Editor & Candy Camera & Grid & ScrapBook', 'ART_AND_DESIGN', '4.1', '159', '19M', '10,000+', 'Free', '0', 'Everyone', 'Art & Design', '7-Jan-18', '1.0.0', '4.0.3 and up']\n",
      "\n",
      "\n"
     ]
    }
   ],
   "source": [
    "print(android[10472])\n",
    "print('\\n')\n",
    "print(android_header)\n",
    "print('\\n')\n",
    "print(android[0])\n",
    "print('\\n')"
   ]
  },
  {
   "cell_type": "markdown",
   "id": "8476b784",
   "metadata": {},
   "source": [
    "The row 10472 corresponds to the app Life Made WI-Fi Touchscreen Photo Frame, and we can see that the rating is 19. This is clearly off because the maximum rating for a Google Play app is 5 (as mentioned in the discussions section, this problem is caused by a missing value in the 'Category' column). As a consequence, we'll delete this row."
   ]
  },
  {
   "cell_type": "code",
   "execution_count": 39,
   "id": "4690c5ed",
   "metadata": {},
   "outputs": [
    {
     "name": "stdout",
     "output_type": "stream",
     "text": [
      "The number of row before deleting wrong data: 10840\n",
      "The number of row after deleting wrong data: 10839\n"
     ]
    }
   ],
   "source": [
    "print(\"The number of row before deleting wrong data:\", len(android)) \n",
    "del android[10472]\n",
    "print(\"The number of row after deleting wrong data:\", len(android))"
   ]
  },
  {
   "cell_type": "code",
   "execution_count": 40,
   "id": "b08a9f7d",
   "metadata": {},
   "outputs": [],
   "source": [
    "def row_check(data_set_list, store):\n",
    "\n",
    "    selected_store = ''\n",
    "    length = 0\n",
    "\n",
    "    if store == 'google':\n",
    "        selected_store, length = 'google', 13\n",
    "    elif store == 'apple':\n",
    "        selected_store, length = 'apple', 16\n",
    "    else:\n",
    "        return print('Wrong App Store Name')\n",
    "\n",
    "    for row in data_set_list:\n",
    "        if len(row) != length:\n",
    "            print(row)\n",
    "\n",
    "\n",
    "row_check(android, 'google')\n",
    "row_check(IOS, 'apple')"
   ]
  },
  {
   "cell_type": "markdown",
   "id": "93e3fc78",
   "metadata": {},
   "source": [
    "# 3. Removing duplicates entries"
   ]
  },
  {
   "cell_type": "markdown",
   "id": "f8a445e5",
   "metadata": {},
   "source": [
    "For example: Instagram has 4 entries."
   ]
  },
  {
   "cell_type": "code",
   "execution_count": 41,
   "id": "40f1ecf4",
   "metadata": {},
   "outputs": [
    {
     "name": "stdout",
     "output_type": "stream",
     "text": [
      "['Instagram', 'SOCIAL', '4.5', '66577313', 'Varies with device', '1,000,000,000+', 'Free', '0', 'Teen', 'Social', '31-Jul-18', 'Varies with device', 'Varies with device']\n",
      "['Instagram', 'SOCIAL', '4.5', '66577446', 'Varies with device', '1,000,000,000+', 'Free', '0', 'Teen', 'Social', '31-Jul-18', 'Varies with device', 'Varies with device']\n",
      "['Instagram', 'SOCIAL', '4.5', '66577313', 'Varies with device', '1,000,000,000+', 'Free', '0', 'Teen', 'Social', '31-Jul-18', 'Varies with device', 'Varies with device']\n",
      "['Instagram', 'SOCIAL', '4.5', '66509917', 'Varies with device', '1,000,000,000+', 'Free', '0', 'Teen', 'Social', '31-Jul-18', 'Varies with device', 'Varies with device']\n"
     ]
    }
   ],
   "source": [
    "for app in android:\n",
    "    name = app[0]\n",
    "    if name == 'Instagram':\n",
    "        print(app)"
   ]
  },
  {
   "cell_type": "markdown",
   "id": "66b01540",
   "metadata": {},
   "source": [
    "There may have lots of duplicate entries. Let’s begin by identifying the affected records."
   ]
  },
  {
   "cell_type": "code",
   "execution_count": 42,
   "id": "a6d103e4",
   "metadata": {},
   "outputs": [
    {
     "name": "stdout",
     "output_type": "stream",
     "text": [
      "Number of duplicate apps: 1180\n",
      "\n",
      "\n",
      "Examples of duplicate apps: ['Quick PDF Scanner + OCR FREE', 'Box', 'Google My Business', 'ZOOM Cloud Meetings', 'join.me - Simple Meetings', 'Box', 'Zenefits', 'Google Ads', 'Google My Business', 'Slack']\n",
      "\n",
      "\n"
     ]
    }
   ],
   "source": [
    "# Check the duplicates for android:\n",
    "duplicate_apps_android = []\n",
    "unique_apps_android = []\n",
    "\n",
    "for app in android:\n",
    "    name = app[0]\n",
    "    if name in unique_apps_android:\n",
    "        duplicate_apps_android.append(name)\n",
    "    else:\n",
    "        unique_apps_android.append(name)\n",
    "\n",
    "print(\"Number of duplicate apps:\" , len(duplicate_apps_android))\n",
    "print('\\n')\n",
    "print(\"Examples of duplicate apps:\" , duplicate_apps_android[:10])\n",
    "print('\\n')"
   ]
  },
  {
   "cell_type": "markdown",
   "id": "49bdc0b5",
   "metadata": {},
   "source": [
    "We don't want to count certain apps more than once when we analyze data, so we need to remove the duplicate entries and keep only one entry per app. One thing we could do is remove the duplicate rows randomly, but we could probably find a better way.\n",
    "\n",
    "If you examine the rows we printed for the Instagram app, the main difference happens on the fourth position of each row, which corresponds to the number of reviews. The different numbers show the data was collected at different times. We can use this to build a criterion for keeping rows. We won't remove rows randomly, but rather we'll keep the rows that have the highest number of reviews because the higher the number of reviews, the more reliable the ratings.\n",
    "\n",
    "To remove the duplicates, we will do the following:\n",
    "\n",
    "- Create a dictionary, where each dictionary key is a unique app name and the corresponding dictionary value is the highest number of reviews of that app.\n",
    "- Use the information stored in the dictionary and create a new dataset, which will have only one entry per app (and for each app, we'll only select the entry with the highest number of reviews)."
   ]
  },
  {
   "cell_type": "markdown",
   "id": "f6c407ce",
   "metadata": {},
   "source": [
    "We start with creating a dictionary that contains the name of the app and the highest rating. It will be used later as a condition for creating a unique list."
   ]
  },
  {
   "cell_type": "code",
   "execution_count": 43,
   "id": "f4d6f7e9",
   "metadata": {},
   "outputs": [
    {
     "name": "stdout",
     "output_type": "stream",
     "text": [
      "Expected Length: 9659\n",
      "Actual Length: 9659\n"
     ]
    }
   ],
   "source": [
    "reviews_max = {}\n",
    "\n",
    "for app in android:\n",
    "    name = app[0]\n",
    "    n_reviews = float(app[3])\n",
    "    \n",
    "    if name in reviews_max and reviews_max[name] < n_reviews:\n",
    "        reviews_max[name] = n_reviews\n",
    "        \n",
    "    elif name not in reviews_max:\n",
    "        reviews_max[name] = n_reviews\n",
    "        \n",
    "print(\"Expected Length:\", len(android) - 1180)\n",
    "print(\"Actual Length:\", len(reviews_max))"
   ]
  },
  {
   "cell_type": "markdown",
   "id": "c5caaabf",
   "metadata": {},
   "source": [
    "Now, let's use the reviews_max dictionary to remove the duplicates. For the duplicate cases, we'll only keep the entries with the highest number of reviews.\n",
    "We continue to account for those cases where the highest number of reviews of a duplicate app is the same for more than one entry (for example, the Box app has three entries, and the number of reviews is the same)."
   ]
  },
  {
   "cell_type": "markdown",
   "id": "a81a06fc",
   "metadata": {},
   "source": [
    "As the next step, we will generate a new unique list of Android apps."
   ]
  },
  {
   "cell_type": "code",
   "execution_count": 92,
   "id": "679d9f0d",
   "metadata": {},
   "outputs": [
    {
     "name": "stdout",
     "output_type": "stream",
     "text": [
      "['Photo Editor & Candy Camera & Grid & ScrapBook', 'ART_AND_DESIGN', '4.1', '159', '19M', '10,000+', 'Free', '0', 'Everyone', 'Art & Design', '7-Jan-18', '1.0.0', '4.0.3 and up']\n",
      "\n",
      "\n",
      "['U Launcher Lite – FREE Live Cool Themes, Hide Apps', 'ART_AND_DESIGN', '4.7', '87510', '8.7M', '5,000,000+', 'Free', '0', 'Everyone', 'Art & Design', '1-Aug-18', '1.2.4', '4.0.3 and up']\n",
      "\n",
      "\n",
      "['Sketch - Draw & Paint', 'ART_AND_DESIGN', '4.5', '215644', '25M', '50,000,000+', 'Free', '0', 'Teen', 'Art & Design', '8-Jun-18', 'Varies with device', '4.2 and up']\n",
      "\n",
      "\n",
      "Number of rows: 9659\n",
      "Number of columnns 13\n"
     ]
    }
   ],
   "source": [
    "android_clean = []\n",
    "already_add = []\n",
    "\n",
    "for app in android:\n",
    "    name = app[0]\n",
    "    n_reviews = float(app[3])\n",
    "    if reviews_max[name] == n_reviews and name not in already_add:\n",
    "        android_clean.append(app)\n",
    "        already_add.append(name)\n",
    "\n",
    "explore_data(android_clean, 0, 3, True)"
   ]
  },
  {
   "cell_type": "markdown",
   "id": "1bfdfe6a",
   "metadata": {
    "scrolled": true
   },
   "source": [
    "Cleaned data set includes 9659 records as expected."
   ]
  },
  {
   "cell_type": "code",
   "execution_count": 46,
   "id": "84c9b673",
   "metadata": {},
   "outputs": [
    {
     "name": "stdout",
     "output_type": "stream",
     "text": [
      "Number of duplicate apps: 0\n",
      "\n",
      "\n",
      "Examples of duplicate apps: []\n",
      "\n",
      "\n"
     ]
    }
   ],
   "source": [
    "# Check the duplicates for IOS:\n",
    "duplicate_apps_IOS = []\n",
    "unique_apps_IOS = []\n",
    "\n",
    "for app in IOS:\n",
    "    name = app[0]\n",
    "    if name in unique_apps_IOS:\n",
    "        duplicate_apps_IOS.append(name)\n",
    "    else:\n",
    "        unique_apps_IOS.append(name)\n",
    "\n",
    "print(\"Number of duplicate apps:\" , len(duplicate_apps_IOS))\n",
    "print('\\n')\n",
    "print(\"Examples of duplicate apps:\" , duplicate_apps_IOS[:10])\n",
    "print('\\n')"
   ]
  },
  {
   "cell_type": "markdown",
   "id": "98cf1744",
   "metadata": {},
   "source": [
    "# 4. Removing Non-English Apps:"
   ]
  },
  {
   "cell_type": "markdown",
   "id": "7d4af0e3",
   "metadata": {},
   "source": [
    "# Part One"
   ]
  },
  {
   "cell_type": "markdown",
   "id": "970ebc6c",
   "metadata": {},
   "source": [
    "Additionally, we will implement one more check for non-English apps which will be excluded from our analysis. We start with building a code that checks if characters in a string are in an English text."
   ]
  },
  {
   "cell_type": "code",
   "execution_count": 47,
   "id": "b7b1f039",
   "metadata": {},
   "outputs": [],
   "source": [
    "def is_english(string):\n",
    "    non = 0\n",
    "    for character in string:\n",
    "        if ord(character) > 127:\n",
    "            non +=1\n",
    "    if non >=3:\n",
    "        return False\n",
    "    else:\n",
    "        return True"
   ]
  },
  {
   "cell_type": "code",
   "execution_count": 48,
   "id": "fb4d81dc",
   "metadata": {},
   "outputs": [
    {
     "name": "stdout",
     "output_type": "stream",
     "text": [
      "True\n",
      "False\n",
      "True\n",
      "True\n"
     ]
    }
   ],
   "source": [
    "print(is_english('Instagram'))\n",
    "print(is_english('爱奇艺PPS -《欢乐颂2》电视剧热播'))\n",
    "print(is_english('Docs To Go™ Free Office Suite'))\n",
    "print(is_english('Instachat 😜'))"
   ]
  },
  {
   "cell_type": "markdown",
   "id": "3010ed8a",
   "metadata": {},
   "source": [
    "The function appears to be functioning correctly. However, certain English app names incorporate emojis or other symbols such as ™, — (dash), etc. that extend beyond the ASCII character range. If we utilize the function in its current state, we may inadvertently exclude useful apps."
   ]
  },
  {
   "cell_type": "markdown",
   "id": "f819b963",
   "metadata": {},
   "source": [
    "# Part Two"
   ]
  },
  {
   "cell_type": "markdown",
   "id": "440068a5",
   "metadata": {},
   "source": [
    "With the function provided above, there is a potential risk of losing valuable data due to misclassification of numerous English apps as non-English. To address this concern, we will exclude an app only if its name contains more than three characters with corresponding Unicode values beyond the ASCII range. Essentially, English apps with up to three emojis or other special characters will still be correctly identified as English. While our filter function isn’t perfect, it should be reasonably effective."
   ]
  },
  {
   "cell_type": "code",
   "execution_count": 93,
   "id": "28136d99",
   "metadata": {},
   "outputs": [
    {
     "name": "stdout",
     "output_type": "stream",
     "text": [
      "True\n",
      "True\n",
      "False\n"
     ]
    }
   ],
   "source": [
    "def isenglish_check(string):\n",
    "    non_ascii = 0\n",
    "    \n",
    "    for character in string:\n",
    "        if ord(character) > 127:\n",
    "            non_ascii += 1\n",
    "            \n",
    "        if non_ascii > 3:\n",
    "            return False\n",
    "    \n",
    "    return True\n",
    "\n",
    "print(isenglish_check('Docs To Go™ Free Office Suite'))\n",
    "print(isenglish_check('Instachat 😜'))\n",
    "print(isenglish_check('爱奇艺PPS -《欢乐颂2》电视剧热播')) "
   ]
  },
  {
   "cell_type": "markdown",
   "id": "0cecd602",
   "metadata": {},
   "source": [
    "Let's isolate English apps into separate lists."
   ]
  },
  {
   "cell_type": "code",
   "execution_count": 95,
   "id": "5ca01098",
   "metadata": {},
   "outputs": [
    {
     "name": "stdout",
     "output_type": "stream",
     "text": [
      "['Photo Editor & Candy Camera & Grid & ScrapBook', 'ART_AND_DESIGN', '4.1', '159', '19M', '10,000+', 'Free', '0', 'Everyone', 'Art & Design', '7-Jan-18', '1.0.0', '4.0.3 and up']\n",
      "\n",
      "\n",
      "['U Launcher Lite – FREE Live Cool Themes, Hide Apps', 'ART_AND_DESIGN', '4.7', '87510', '8.7M', '5,000,000+', 'Free', '0', 'Everyone', 'Art & Design', '1-Aug-18', '1.2.4', '4.0.3 and up']\n",
      "\n",
      "\n",
      "['Sketch - Draw & Paint', 'ART_AND_DESIGN', '4.5', '215644', '25M', '50,000,000+', 'Free', '0', 'Teen', 'Art & Design', '8-Jun-18', 'Varies with device', '4.2 and up']\n",
      "\n",
      "\n",
      "Number of rows: 9597\n",
      "Number of columnns 13\n",
      "\n",
      "\n",
      "['284882215', 'Facebook', '389879808', 'USD', '0', '2974676', '212', '3.5', '3.5', '95', '4+', 'Social Networking', '37', '1', '29', '1']\n",
      "\n",
      "\n",
      "['389801252', 'Instagram', '113954816', 'USD', '0', '2161558', '1289', '4.5', '4', '10.23', '12+', 'Photo & Video', '37', '0', '29', '1']\n",
      "\n",
      "\n",
      "['529479190', 'Clash of Clans', '116476928', 'USD', '0', '2130805', '579', '4.5', '4.5', '9.24.12', '9+', 'Games', '38', '5', '18', '1']\n",
      "\n",
      "\n",
      "Number of rows: 6155\n",
      "Number of columnns 16\n"
     ]
    }
   ],
   "source": [
    "english_androids = []\n",
    "english_ios = []\n",
    "\n",
    "for row in android_clean:\n",
    "    name = row[0]\n",
    "    if is_english(name):\n",
    "        english_androids.append(row)\n",
    "        \n",
    "for row in IOS:\n",
    "    name = row[1]\n",
    "    if is_english(name):\n",
    "        english_ios.append(row)\n",
    "        \n",
    "explore_data(english_androids, 0, 3, True)   \n",
    "print('\\n')\n",
    "explore_data(english_ios, 0, 3, True)        "
   ]
  },
  {
   "cell_type": "markdown",
   "id": "db02ab6c",
   "metadata": {
    "scrolled": true
   },
   "source": [
    "Upon excluding non-English apps, we are left with 9597 records in the Android dataset and 6155 records in the iOS dataset."
   ]
  },
  {
   "cell_type": "markdown",
   "id": "76de0749",
   "metadata": {},
   "source": [
    "# 5. Isolate the Free Apps"
   ]
  },
  {
   "cell_type": "markdown",
   "id": "7bd55b66",
   "metadata": {},
   "source": [
    "In our initial overview, we emphasized that our app development exclusively focuses on creating free-to-download and install applications. Our primary revenue stream relies on in-app advertisements. Our data sets encompass both free and non-free apps. For our analysis, we will specifically extract and isolate the free apps from both data sets."
   ]
  },
  {
   "cell_type": "code",
   "execution_count": 98,
   "id": "b6a31c37",
   "metadata": {},
   "outputs": [
    {
     "name": "stdout",
     "output_type": "stream",
     "text": [
      "Android free apps:  8848\n",
      "iOS free apps:  3203\n"
     ]
    }
   ],
   "source": [
    "android_english_free=[]\n",
    "ios_english_free=[]\n",
    "\n",
    "for app in english_androids:\n",
    "    price = app[7]\n",
    "    if price == '0':\n",
    "        android_english_free.append(app)\n",
    "\n",
    "for app in english_ios:\n",
    "    price = app[4]\n",
    "    if price == '0':\n",
    "        ios_english_free.append(app)\n",
    "\n",
    "\n",
    "print('Android free apps: ',len(android_english_free))\n",
    "print('iOS free apps: ', len(ios_english_free))"
   ]
  },
  {
   "cell_type": "markdown",
   "id": "6dc1bc16",
   "metadata": {},
   "source": [
    "After isolating free apps we left with 8848 records from the Android data set and 3203 records from the iOS data set."
   ]
  },
  {
   "cell_type": "markdown",
   "id": "3c4259eb",
   "metadata": {},
   "source": [
    "# 6. Most Common Apps by Genre"
   ]
  },
  {
   "cell_type": "markdown",
   "id": "46bc0594",
   "metadata": {},
   "source": [
    "# Part One"
   ]
  },
  {
   "cell_type": "markdown",
   "id": "2897e8d6",
   "metadata": {},
   "source": [
    "Our objective, as stated in the introduction, is to identify app types that are likely to attract a larger user base. Our revenue heavily depends on the number of users who engage with our apps. To minimize risks and overhead, we follow a three-step validation strategy for app ideas:\n",
    "\n",
    "Build a Minimal Android Version: We create a basic Android version of the app and release it on Google Play.\n",
    "User Response Evaluation: If the app receives positive feedback from users, we proceed with further development.\n",
    "Profitability Assessment: After six months, if the app proves profitable, we develop an iOS version and add it to the App Store.\n",
    "Since our ultimate goal is to launch the app on both Google Play and the App Store, we seek app profiles that succeed in both markets. For instance, a profile that combines productivity features with gamification could be a promising choice.\n",
    "\n",
    "We start our analysis with understanding the most common genres in both markets. We will build a frequency table for the prime_genre column of the App Store data set and the Genres and Category of the Google Play data set."
   ]
  },
  {
   "cell_type": "markdown",
   "id": "84fc33cb",
   "metadata": {},
   "source": [
    "# Part Two"
   ]
  },
  {
   "cell_type": "markdown",
   "id": "2f6bf73b",
   "metadata": {},
   "source": [
    "As a next step we develop two functions that will help in the analysis of frequency tables:\n",
    "\n",
    "A function that creates frequency tables\n",
    "A function that sorts and presents these percentages in descending order"
   ]
  },
  {
   "cell_type": "code",
   "execution_count": 52,
   "id": "ad4d2cea",
   "metadata": {},
   "outputs": [
    {
     "name": "stdout",
     "output_type": "stream",
     "text": [
      "{'ART_AND_DESIGN': 0.6442133815551537, 'AUTO_AND_VEHICLES': 0.9267631103074141, 'BEAUTY': 0.599005424954792, 'BOOKS_AND_REFERENCE': 2.1360759493670884, 'BUSINESS': 4.599909584086799, 'COMICS': 0.6103074141048824, 'COMMUNICATION': 3.2323688969258586, 'DATING': 1.8648282097649187, 'EDUCATION': 1.164104882459313, 'ENTERTAINMENT': 0.9606690777576853, 'EVENTS': 0.7120253164556962, 'FINANCE': 3.7070524412296564, 'FOOD_AND_DRINK': 1.2432188065099457, 'HEALTH_AND_FITNESS': 3.0854430379746836, 'HOUSE_AND_HOME': 0.8024412296564195, 'LIBRARIES_AND_DEMO': 0.9380650994575045, 'LIFESTYLE': 3.887884267631103, 'GAME': 9.697106690777577, 'FAMILY': 18.942133815551536, 'MEDICAL': 3.5375226039783, 'SOCIAL': 2.667269439421338, 'SHOPPING': 2.2490958408679926, 'PHOTOGRAPHY': 2.949819168173599, 'SPORTS': 3.390596745027125, 'TRAVEL_AND_LOCAL': 2.3395117540687163, 'TOOLS': 8.453887884267631, 'PERSONALIZATION': 3.322784810126582, 'PRODUCTIVITY': 3.899186256781193, 'PARENTING': 0.6555153707052441, 'WEATHER': 0.7911392405063291, 'VIDEO_PLAYERS': 1.7970162748643763, 'NEWS_AND_MAGAZINES': 2.802893309222423, 'MAPS_AND_NAVIGATION': 1.3901446654611211}\n"
     ]
    }
   ],
   "source": [
    "def freq_table(dataset, index):\n",
    "    table = {}\n",
    "    total = 0\n",
    "    for row in dataset:\n",
    "        total += 1\n",
    "        value = row[index]\n",
    "        if value in table:\n",
    "            table[value] += 1\n",
    "        else:\n",
    "            table[value] = 1\n",
    "\n",
    "    percentaged_table = {}\n",
    "    for key in table:\n",
    "        percentage = (table[key] / total)*100\n",
    "        percentaged_table[key] = percentage\n",
    "    return percentaged_table\n",
    "\n",
    "print(freq_table(android_english_free, 1))"
   ]
  },
  {
   "cell_type": "code",
   "execution_count": 53,
   "id": "7ab2248b",
   "metadata": {},
   "outputs": [],
   "source": [
    "def display_table(dataset, index):\n",
    "    table = freq_table(dataset, index)\n",
    "    table_display = []\n",
    "    for key in table:\n",
    "        key_val_as_tuple = (table[key], key)\n",
    "        table_display.append(key_val_as_tuple)\n",
    "        \n",
    "    table_sorted = sorted(table_display,reverse = True )\n",
    "    for entry in table_sorted:\n",
    "        print(entry[1],':',entry[0])      "
   ]
  },
  {
   "cell_type": "markdown",
   "id": "9136664b",
   "metadata": {},
   "source": [
    "# Part Three"
   ]
  },
  {
   "cell_type": "markdown",
   "id": "d89e1974",
   "metadata": {},
   "source": [
    "We start with analyzing prime_genre in the iOS data set."
   ]
  },
  {
   "cell_type": "code",
   "execution_count": 54,
   "id": "ca40a838",
   "metadata": {},
   "outputs": [
    {
     "name": "stdout",
     "output_type": "stream",
     "text": [
      "Games : 58.25788323446769\n",
      "Entertainment : 7.836403371838902\n",
      "Photo & Video : 4.995316890415236\n",
      "Education : 3.6840462066812365\n",
      "Social Networking : 3.3093974399000934\n",
      "Shopping : 2.5913206369029034\n",
      "Utilities : 2.466437714642523\n",
      "Sports : 2.1542304089915705\n",
      "Music : 2.0605682172962845\n",
      "Health & Fitness : 2.0293474867311896\n",
      "Productivity : 1.7483609116453322\n",
      "Lifestyle : 1.5610365282547611\n",
      "News : 1.3424914142990947\n",
      "Travel : 1.248829222603809\n",
      "Finance : 1.0927255697783327\n",
      "Weather : 0.8741804558226661\n",
      "Food & Drink : 0.8117389946924758\n",
      "Reference : 0.5307524196066188\n",
      "Business : 0.5307524196066188\n",
      "Book : 0.3746487667811427\n",
      "Navigation : 0.18732438339057134\n",
      "Medical : 0.18732438339057134\n",
      "Catalogs : 0.1248829222603809\n"
     ]
    }
   ],
   "source": [
    "display_table(ios_english_free,11)"
   ]
  },
  {
   "cell_type": "markdown",
   "id": "1bce4388",
   "metadata": {},
   "source": [
    "The prime_genre distribution in the iOS dataset reveals a dominant preference for Games, which constitute a significant 58.16% of the total. This is followed by Entertainment apps at 7.88%, and Photo & Video apps at 4.97%, indicating a strong inclination towards apps for leisure and media creation. Education and Social Networking apps also have a notable presence with 3.66% and 3.29% respectively, reflecting a balanced interest in learning and social interaction.\n",
    "\n",
    "Other categories like Shopping, Utilities, and Sports range between 2% to 3%, showing a moderate level of usage. Music, Health & Fitness, and Productivity apps are close behind, each hovering around 2%, suggesting a consistent but smaller user base.\n",
    "\n",
    "Categories such as Lifestyle, News, Travel, and Finance represent around 1% to 1.5%, indicating more specialized interests. The least represented genres are Weather, Food & Drink, Reference, Business, Book, Navigation, Medical, and Catalogs, each comprising less than 1% of the dataset, pointing to a niche audience for these app types.\n",
    "\n",
    "In summary, the iOS app landscape is heavily skewed towards entertainment, with a significant portion of users engaging with games and media-related apps, while other genres cater to more specific needs and interests.\n",
    "\n",
    "Let's continue with analyzing Category and Genres in the Android data set."
   ]
  },
  {
   "cell_type": "code",
   "execution_count": 101,
   "id": "59367f5f",
   "metadata": {},
   "outputs": [
    {
     "name": "stdout",
     "output_type": "stream",
     "text": [
      "Android Category\n",
      "FAMILY : 18.942133815551536\n",
      "GAME : 9.697106690777577\n",
      "TOOLS : 8.453887884267631\n",
      "BUSINESS : 4.599909584086799\n",
      "PRODUCTIVITY : 3.899186256781193\n",
      "LIFESTYLE : 3.887884267631103\n",
      "FINANCE : 3.7070524412296564\n",
      "MEDICAL : 3.5375226039783\n",
      "SPORTS : 3.390596745027125\n",
      "PERSONALIZATION : 3.322784810126582\n",
      "COMMUNICATION : 3.2323688969258586\n",
      "HEALTH_AND_FITNESS : 3.0854430379746836\n",
      "PHOTOGRAPHY : 2.949819168173599\n",
      "NEWS_AND_MAGAZINES : 2.802893309222423\n",
      "SOCIAL : 2.667269439421338\n",
      "TRAVEL_AND_LOCAL : 2.3395117540687163\n",
      "SHOPPING : 2.2490958408679926\n",
      "BOOKS_AND_REFERENCE : 2.1360759493670884\n",
      "DATING : 1.8648282097649187\n",
      "VIDEO_PLAYERS : 1.7970162748643763\n",
      "MAPS_AND_NAVIGATION : 1.3901446654611211\n",
      "FOOD_AND_DRINK : 1.2432188065099457\n",
      "EDUCATION : 1.164104882459313\n",
      "ENTERTAINMENT : 0.9606690777576853\n",
      "LIBRARIES_AND_DEMO : 0.9380650994575045\n",
      "AUTO_AND_VEHICLES : 0.9267631103074141\n",
      "HOUSE_AND_HOME : 0.8024412296564195\n",
      "WEATHER : 0.7911392405063291\n",
      "EVENTS : 0.7120253164556962\n",
      "PARENTING : 0.6555153707052441\n",
      "ART_AND_DESIGN : 0.6442133815551537\n",
      "COMICS : 0.6103074141048824\n",
      "BEAUTY : 0.599005424954792\n",
      "---------------\n",
      "Android Genres\n",
      "Tools : 8.44258589511754\n",
      "Entertainment : 6.080470162748644\n",
      "Education : 5.357142857142857\n",
      "Business : 4.599909584086799\n",
      "Productivity : 3.899186256781193\n",
      "Lifestyle : 3.8765822784810124\n",
      "Finance : 3.7070524412296564\n",
      "Medical : 3.5375226039783\n",
      "Sports : 3.4584086799276674\n",
      "Personalization : 3.322784810126582\n",
      "Communication : 3.2323688969258586\n",
      "Action : 3.096745027124774\n",
      "Health & Fitness : 3.0854430379746836\n",
      "Photography : 2.949819168173599\n",
      "News & Magazines : 2.802893309222423\n",
      "Social : 2.667269439421338\n",
      "Travel & Local : 2.328209764918626\n",
      "Shopping : 2.2490958408679926\n",
      "Books & Reference : 2.1360759493670884\n",
      "Simulation : 2.0456600361663653\n",
      "Dating : 1.8648282097649187\n",
      "Arcade : 1.842224231464738\n",
      "Video Players & Editors : 1.7744122965641953\n",
      "Casual : 1.763110307414105\n",
      "Maps & Navigation : 1.3901446654611211\n",
      "Food & Drink : 1.2432188065099457\n",
      "Puzzle : 1.1301989150090417\n",
      "Racing : 0.9945750452079566\n",
      "Role Playing : 0.9380650994575045\n",
      "Libraries & Demo : 0.9380650994575045\n",
      "Auto & Vehicles : 0.9267631103074141\n",
      "Strategy : 0.9154611211573236\n",
      "House & Home : 0.8024412296564195\n",
      "Weather : 0.7911392405063291\n",
      "Events : 0.7120253164556962\n",
      "Adventure : 0.6668173598553345\n",
      "Comics : 0.599005424954792\n",
      "Beauty : 0.599005424954792\n",
      "Art & Design : 0.599005424954792\n",
      "Parenting : 0.4972875226039783\n",
      "Card : 0.45207956600361665\n",
      "Trivia : 0.4181735985533454\n",
      "Casino : 0.4181735985533454\n",
      "Educational;Education : 0.39556962025316456\n",
      "Board : 0.3842676311030741\n",
      "Educational : 0.3729656419529837\n",
      "Education;Education : 0.33905967450271246\n",
      "Word : 0.25994575045207957\n",
      "Casual;Pretend Play : 0.23734177215189875\n",
      "Music : 0.2034358047016275\n",
      "Racing;Action & Adventure : 0.16952983725135623\n",
      "Puzzle;Brain Games : 0.16952983725135623\n",
      "Entertainment;Music & Video : 0.16952983725135623\n",
      "Casual;Brain Games : 0.13562386980108498\n",
      "Casual;Action & Adventure : 0.13562386980108498\n",
      "Arcade;Action & Adventure : 0.12432188065099457\n",
      "Action;Action & Adventure : 0.10171790235081375\n",
      "Educational;Pretend Play : 0.09041591320072333\n",
      "Simulation;Action & Adventure : 0.07911392405063292\n",
      "Parenting;Education : 0.07911392405063292\n",
      "Entertainment;Brain Games : 0.07911392405063292\n",
      "Board;Brain Games : 0.07911392405063292\n",
      "Parenting;Music & Video : 0.06781193490054249\n",
      "Educational;Brain Games : 0.06781193490054249\n",
      "Casual;Creativity : 0.06781193490054249\n",
      "Art & Design;Creativity : 0.06781193490054249\n",
      "Education;Pretend Play : 0.05650994575045208\n",
      "Role Playing;Pretend Play : 0.045207956600361664\n",
      "Education;Creativity : 0.045207956600361664\n",
      "Role Playing;Action & Adventure : 0.033905967450271246\n",
      "Puzzle;Action & Adventure : 0.033905967450271246\n",
      "Entertainment;Creativity : 0.033905967450271246\n",
      "Entertainment;Action & Adventure : 0.033905967450271246\n",
      "Educational;Creativity : 0.033905967450271246\n",
      "Educational;Action & Adventure : 0.033905967450271246\n",
      "Education;Music & Video : 0.033905967450271246\n",
      "Education;Brain Games : 0.033905967450271246\n",
      "Education;Action & Adventure : 0.033905967450271246\n",
      "Adventure;Action & Adventure : 0.033905967450271246\n",
      "Video Players & Editors;Music & Video : 0.022603978300180832\n",
      "Sports;Action & Adventure : 0.022603978300180832\n",
      "Simulation;Pretend Play : 0.022603978300180832\n",
      "Puzzle;Creativity : 0.022603978300180832\n",
      "Music;Music & Video : 0.022603978300180832\n",
      "Entertainment;Pretend Play : 0.022603978300180832\n",
      "Casual;Education : 0.022603978300180832\n",
      "Board;Action & Adventure : 0.022603978300180832\n",
      "Video Players & Editors;Creativity : 0.011301989150090416\n",
      "Trivia;Education : 0.011301989150090416\n",
      "Travel & Local;Action & Adventure : 0.011301989150090416\n",
      "Tools;Education : 0.011301989150090416\n",
      "Strategy;Education : 0.011301989150090416\n",
      "Strategy;Creativity : 0.011301989150090416\n",
      "Strategy;Action & Adventure : 0.011301989150090416\n",
      "Simulation;Education : 0.011301989150090416\n",
      "Role Playing;Brain Games : 0.011301989150090416\n",
      "Racing;Pretend Play : 0.011301989150090416\n",
      "Puzzle;Education : 0.011301989150090416\n",
      "Parenting;Brain Games : 0.011301989150090416\n",
      "Music & Audio;Music & Video : 0.011301989150090416\n",
      "Lifestyle;Pretend Play : 0.011301989150090416\n",
      "Lifestyle;Education : 0.011301989150090416\n",
      "Health & Fitness;Education : 0.011301989150090416\n",
      "Health & Fitness;Action & Adventure : 0.011301989150090416\n",
      "Entertainment;Education : 0.011301989150090416\n",
      "Communication;Creativity : 0.011301989150090416\n",
      "Comics;Creativity : 0.011301989150090416\n",
      "Casual;Music & Video : 0.011301989150090416\n",
      "Card;Action & Adventure : 0.011301989150090416\n",
      "Books & Reference;Education : 0.011301989150090416\n",
      "Art & Design;Pretend Play : 0.011301989150090416\n",
      "Art & Design;Action & Adventure : 0.011301989150090416\n",
      "Arcade;Pretend Play : 0.011301989150090416\n",
      "Adventure;Education : 0.011301989150090416\n"
     ]
    }
   ],
   "source": [
    "print('Android Category')\n",
    "display_table(android_english_free, 1)\n",
    "print('---------------')\n",
    "print('Android Genres')\n",
    "display_table(android_english_free, 9)"
   ]
  },
  {
   "cell_type": "markdown",
   "id": "9c7fceb4",
   "metadata": {},
   "source": [
    "In the Android dataset, the Category distribution shows a strong preference for family apps, which lead with 18.91%. Games follow as the second most popular category at 9.72%, and tools are not far behind with 8.46%. Business apps also have a significant share at 4.59%, reflecting the platform's utility for professional activities.\n",
    "\n",
    "Lifestyle and productivity apps are equally popular, each holding around 3.90% of the share. Finance, medical, and sports categories are well-represented too, each with just over 3.5%. Personalization and communication apps are also notable at approximately 3.3% each.\n",
    "\n",
    "Health and fitness and photography apps are chosen by around 3% of users, while news and magazines and social apps are slightly less common at about 2.7%. Travel and local and shopping apps show moderate popularity, each with just over 2%.\n",
    "\n",
    "The dataset also includes a variety of Genres, with tools being the most prevalent at 8.45%. Entertainment and education genres are also popular, with 6.07% and 5.35% respectively. Other genres such as business, productivity, lifestyle, finance, medical, and sports show a healthy presence, each ranging from 3% to 4.5%.\n",
    "\n",
    "In summary, the Android app market is diverse, with a strong focus on family-oriented and game apps, followed by practical tools and business applications. There is also a wide range of other genres that cater to various interests and needs, from personalization to health and fitness, indicating a well-rounded selection for users."
   ]
  },
  {
   "cell_type": "markdown",
   "id": "73f9b7cc",
   "metadata": {},
   "source": [
    "# Most Popular Apps by Genre on the App Store"
   ]
  },
  {
   "cell_type": "markdown",
   "id": "ce0c92ba",
   "metadata": {},
   "source": [
    "To determine the most popular genres (those with the highest user base), we can compute the mean number of installations per genre. This data is readily available in the Installs column of the Google Play data set, but not in the App Store data set. We will use the total user ratings count as an alternative measure, which is accessible in the rating_count_tot field."
   ]
  },
  {
   "cell_type": "code",
   "execution_count": 57,
   "id": "35b45320",
   "metadata": {},
   "outputs": [],
   "source": [
    "genres_ios = freq_table(ios_english_free, 11)"
   ]
  },
  {
   "cell_type": "code",
   "execution_count": 68,
   "id": "a4d46cb9",
   "metadata": {},
   "outputs": [
    {
     "name": "stdout",
     "output_type": "stream",
     "text": [
      "Social Networking : 71548.34905660378\n",
      "Photo & Video : 28441.54375\n",
      "Games : 22886.36709539121\n",
      "Music : 57326.530303030304\n",
      "Reference : 79350.4705882353\n",
      "Health & Fitness : 23298.015384615384\n",
      "Weather : 52279.892857142855\n",
      "Utilities : 19156.493670886077\n",
      "Travel : 28243.8\n",
      "Shopping : 27230.734939759037\n",
      "News : 21248.023255813954\n",
      "Navigation : 86090.33333333333\n",
      "Lifestyle : 16815.48\n",
      "Entertainment : 14195.358565737051\n",
      "Food & Drink : 33333.92307692308\n",
      "Sports : 23008.898550724636\n",
      "Book : 46384.916666666664\n",
      "Finance : 32367.02857142857\n",
      "Education : 7003.983050847458\n",
      "Productivity : 21028.410714285714\n",
      "Business : 7491.117647058823\n",
      "Catalogs : 4004.0\n",
      "Medical : 612.0\n"
     ]
    }
   ],
   "source": [
    "for genre in genres_ios:\n",
    "    total = 0\n",
    "    len_genre = 0\n",
    "    for app in ios_english_free:\n",
    "        genre_app = app[11]\n",
    "        if genre_app == genre:\n",
    "            ratings = float(app[5])\n",
    "            total += ratings\n",
    "            len_genre += 1\n",
    "    avg_number = total/len_genre\n",
    "    print(genre, ':', avg_number)"
   ]
  },
  {
   "cell_type": "markdown",
   "id": "1dfd2c19",
   "metadata": {},
   "source": [
    "In App Store, Navigation apps stand out with the highest average user ratings at 86,090.33, closely followed by Social Networking and Reference apps with 71,548.35 and 74,942.11 respectively. Music and Weather apps also perform well, averaging 57,326.53 and 52,279.89. The popular Games category has a substantial average of 22,788.67, while Photo & Video, Health & Fitness, and Travel maintain moderate ratings. Food & Drink and Finance apps show solid averages above 30,000, contrasting with Education and Business apps, which are among the lowest at 7,003.98 and 7,491.12. The Medical genre has the least favorable average rating, sitting at just 612, indicating a significant disparity in user satisfaction across different app genres."
   ]
  },
  {
   "cell_type": "code",
   "execution_count": 103,
   "id": "1aa839c2",
   "metadata": {},
   "outputs": [
    {
     "name": "stdout",
     "output_type": "stream",
     "text": [
      "Waze - GPS Navigation, Maps & Real-time Traffic : 345046\n",
      "Google Maps - Navigation & Transit : 154911\n",
      "Geocaching® : 12811\n",
      "CoPilot GPS – Car Navigation & Offline Maps : 3582\n",
      "ImmobilienScout24: Real Estate Search in Germany : 187\n",
      "Railway Route Search : 5\n"
     ]
    }
   ],
   "source": [
    "for row in ios_english_free:\n",
    "    if row[11] == 'Navigation':\n",
    "        print(row[1],':', row[5])"
   ]
  },
  {
   "cell_type": "markdown",
   "id": "f04e681a",
   "metadata": {},
   "source": [
    "However, when looking more deeply into Navigation, it seems that the high average user rating is caused by the Waze app."
   ]
  },
  {
   "cell_type": "code",
   "execution_count": 105,
   "id": "34c44896",
   "metadata": {},
   "outputs": [
    {
     "name": "stdout",
     "output_type": "stream",
     "text": [
      "Facebook : 2974676\n",
      "Pinterest : 1061624\n",
      "Skype for iPhone : 373519\n",
      "Messenger : 351466\n",
      "Tumblr : 334293\n",
      "WhatsApp Messenger : 287589\n",
      "Kik : 260965\n",
      "ooVoo – Free Video Call, Text and Voice : 177501\n",
      "TextNow - Unlimited Text + Calls : 164963\n",
      "Viber Messenger – Text & Call : 164249\n",
      "Followers - Social Analytics For Instagram : 112778\n",
      "MeetMe - Chat and Meet New People : 97072\n",
      "We Heart It - Fashion, wallpapers, quotes, tattoos : 90414\n",
      "InsTrack for Instagram - Analytics Plus More : 85535\n",
      "Tango - Free Video Call, Voice and Chat : 75412\n",
      "LinkedIn : 71856\n",
      "Match™ - #1 Dating App. : 60659\n",
      "Skype for iPad : 60163\n",
      "POF - Best Dating App for Conversations : 52642\n",
      "Timehop : 49510\n",
      "Find My Family, Friends & iPhone - Life360 Locator : 43877\n",
      "Whisper - Share, Express, Meet : 39819\n",
      "Hangouts : 36404\n",
      "LINE PLAY - Your Avatar World : 34677\n",
      "WeChat : 34584\n",
      "Badoo - Meet New People, Chat, Socialize. : 34428\n",
      "Followers + for Instagram - Follower Analytics : 28633\n",
      "GroupMe : 28260\n",
      "Marco Polo Video Walkie Talkie : 27662\n",
      "Miitomo : 23965\n",
      "SimSimi : 23530\n",
      "Grindr - Gay and same sex guys chat, meet and date : 23201\n",
      "Wishbone - Compare Anything : 20649\n",
      "imo video calls and chat : 18841\n",
      "After School - Funny Anonymous School News : 18482\n",
      "Quick Reposter - Repost, Regram and Reshare Photos : 17694\n",
      "Weibo HD : 16772\n",
      "Repost for Instagram : 15185\n",
      "Live.me – Live Video Chat & Make Friends Nearby : 14724\n",
      "Nextdoor : 14402\n",
      "Followers Analytics for Instagram - InstaReport : 13914\n",
      "YouNow: Live Stream Video Chat : 12079\n",
      "FollowMeter for Instagram - Followers Tracking : 11976\n",
      "LINE : 11437\n",
      "eHarmony™ Dating App - Meet Singles : 11124\n",
      "Discord - Chat for Gamers : 9152\n",
      "QQ : 9109\n",
      "Telegram Messenger : 7573\n",
      "Weibo : 7265\n",
      "Periscope - Live Video Streaming Around the World : 6062\n",
      "Chat for Whatsapp - iPad Version : 5060\n",
      "QQ HD : 5058\n",
      "Followers Analysis Tool For Instagram App Free : 4253\n",
      "live.ly - live video streaming : 4145\n",
      "Houseparty - Group Video Chat : 3991\n",
      "SOMA Messenger : 3232\n",
      "Monkey : 3060\n",
      "Down To Lunch : 2535\n",
      "Flinch - Video Chat Staring Contest : 2134\n",
      "Highrise - Your Avatar Community : 2011\n",
      "LOVOO - Dating Chat : 1985\n",
      "PlayStation®Messages : 1918\n",
      "BOO! - Video chat camera with filters & stickers : 1805\n",
      "Qzone : 1649\n",
      "Chatous - Chat with new people : 1609\n",
      "Kiwi - Q&A : 1538\n",
      "GhostCodes - a discovery app for Snapchat : 1313\n",
      "Jodel : 1193\n",
      "FireChat : 1037\n",
      "Google Duo - simple video calling : 1033\n",
      "Fiesta by Tango - Chat & Meet New People : 885\n",
      "Google Allo — smart messaging : 862\n",
      "Peach — share vividly : 727\n",
      "Hey! VINA - Where Women Meet New Friends : 719\n",
      "Battlefield™ Companion : 689\n",
      "All Devices for WhatsApp - Messenger for iPad : 682\n",
      "Chat for Pokemon Go - GoChat : 500\n",
      "IAmNaughty – Dating App to Meet New People Online : 463\n",
      "Qzone HD : 458\n",
      "Zenly - Locate your friends in realtime : 427\n",
      "League of Legends Friends : 420\n",
      "豆瓣 : 407\n",
      "Candid - Speak Your Mind Freely : 398\n",
      "知乎 : 397\n",
      "Selfeo : 366\n",
      "Fake-A-Location Free ™ : 354\n",
      "Popcorn Buzz - Free Group Calls : 281\n",
      "Fam — Group video calling for iMessage : 279\n",
      "QQ International : 274\n",
      "Ameba : 269\n",
      "SoundCloud Pulse: for creators : 240\n",
      "Tantan : 235\n",
      "Cougar Dating & Life Style App for Mature Women : 213\n",
      "Rawr Messenger - Dab your chat : 180\n",
      "WhenToPost: Best Time to Post Photos for Instagram : 158\n",
      "Inke—Broadcast an amazing life : 147\n",
      "Mustknow - anonymous video Q&A : 53\n",
      "CTFxCmoji : 39\n",
      "Lobi : 36\n",
      "Chain: Collaborate On MyVideo Story/Group Video : 35\n",
      "botman - Real time video chat : 7\n",
      "BestieBox : 0\n",
      "MATCH ON LINE chat : 0\n",
      "niconico ch : 0\n",
      "LINE BLOG : 0\n",
      "bit-tube - Live Stream Video Chat : 0\n"
     ]
    }
   ],
   "source": [
    "for row in ios_english_free:\n",
    "    if row[11] == 'Social Networking':\n",
    "        print(row[1], ':', row[5])"
   ]
  },
  {
   "cell_type": "markdown",
   "id": "568ffb03",
   "metadata": {},
   "source": [
    "Facebook leads with a staggering 2,974,676 ratings, indicating its vast popularity. Pinterest and Skype for iPhone follow with 1,061,624 and 373,519 ratings respectively, showcasing their significant but lesser user engagement compared to Facebook. The data reflects a wide disparity in user interaction across different social platforms."
   ]
  },
  {
   "cell_type": "code",
   "execution_count": 107,
   "id": "1168bbf6",
   "metadata": {},
   "outputs": [
    {
     "name": "stdout",
     "output_type": "stream",
     "text": [
      "Bible : 985920\n",
      "Dictionary.com Dictionary & Thesaurus : 200047\n",
      "Dictionary.com Dictionary & Thesaurus for iPad : 54175\n",
      "Google Translate : 26786\n",
      "Muslim Pro: Ramadan 2017 Prayer Times, Azan, Quran : 18418\n",
      "New Furniture Mods - Pocket Wiki & Game Tools for Minecraft PC Edition : 17588\n",
      "Merriam-Webster Dictionary : 16849\n",
      "Night Sky : 12122\n",
      "City Maps for Minecraft PE - The Best Maps for Minecraft Pocket Edition (MCPE) : 8535\n",
      "LUCKY BLOCK MOD ™ for Minecraft PC Edition - The Best Pocket Wiki & Mods Installer Tools : 4693\n",
      "GUNS MODS for Minecraft PC Edition - Mods Tools : 1497\n",
      "Guides for Pokémon GO - Pokemon GO News and Cheats : 826\n",
      "WWDC : 762\n",
      "Horror Maps for Minecraft PE - Download The Scariest Maps for Minecraft Pocket Edition (MCPE) Free : 718\n",
      "VPN Express : 14\n",
      "Real Bike Traffic Rider Virtual Reality Glasses : 8\n",
      "Jishokun-Japanese English Dictionary & Translator : 0\n"
     ]
    }
   ],
   "source": [
    "for row in ios_english_free:\n",
    "    if row[11] == 'Reference':\n",
    "        print(row[1],':', row[5])"
   ]
  },
  {
   "cell_type": "markdown",
   "id": "c85d4606",
   "metadata": {},
   "source": [
    "The user ratings for a 'Referemce' apps, the Bible app stands out with 985,920 ratings, reflecting its widespread use and engagement. Educational and utility apps like Dictionary.com and Google Translate also show strong user interaction with 200,047 and 26,786 ratings respectively."
   ]
  },
  {
   "cell_type": "markdown",
   "id": "6e3fb724",
   "metadata": {},
   "source": [
    "# Most Popular Apps by Genre on Google Play"
   ]
  },
  {
   "cell_type": "markdown",
   "id": "8953aacd",
   "metadata": {},
   "source": [
    "The information about the number of installs in the Android data set is not exact, but grouped into buckets mostly in form of strings - '1,000+', '10,000+', etc."
   ]
  },
  {
   "cell_type": "code",
   "execution_count": 69,
   "id": "3bd914ee",
   "metadata": {},
   "outputs": [],
   "source": [
    "genres_android = freq_table(android_english_free, 1)"
   ]
  },
  {
   "cell_type": "code",
   "execution_count": 83,
   "id": "fa5d9643",
   "metadata": {},
   "outputs": [
    {
     "name": "stdout",
     "output_type": "stream",
     "text": [
      "ART_AND_DESIGN : 1986335.0877192982\n",
      "AUTO_AND_VEHICLES : 647317.8170731707\n",
      "BEAUTY : 513151.88679245283\n",
      "BOOKS_AND_REFERENCE : 8814199.78835979\n",
      "BUSINESS : 1712290.1474201474\n",
      "COMICS : 832613.8888888889\n",
      "COMMUNICATION : 38590581.08741259\n",
      "DATING : 854028.8303030303\n",
      "EDUCATION : 1833495.145631068\n",
      "ENTERTAINMENT : 11640705.88235294\n",
      "EVENTS : 253542.22222222222\n",
      "FINANCE : 1387692.475609756\n",
      "FOOD_AND_DRINK : 1924897.7363636363\n",
      "HEALTH_AND_FITNESS : 4188821.9853479853\n",
      "HOUSE_AND_HOME : 1360598.042253521\n",
      "LIBRARIES_AND_DEMO : 638503.734939759\n",
      "LIFESTYLE : 1446158.2238372094\n",
      "GAME : 15544014.51048951\n",
      "FAMILY : 3695641.8198090694\n",
      "MEDICAL : 120550.61980830671\n",
      "SOCIAL : 23253652.127118643\n",
      "SHOPPING : 7036877.311557789\n",
      "PHOTOGRAPHY : 17840110.40229885\n",
      "SPORTS : 3650602.276666667\n",
      "TRAVEL_AND_LOCAL : 13984077.710144928\n",
      "TOOLS : 10830251.970588235\n",
      "PERSONALIZATION : 5201482.6122448975\n",
      "PRODUCTIVITY : 16787331.344927534\n",
      "PARENTING : 542603.6206896552\n",
      "WEATHER : 5145550.285714285\n",
      "VIDEO_PLAYERS : 24727872.452830188\n",
      "NEWS_AND_MAGAZINES : 9549178.467741935\n",
      "MAPS_AND_NAVIGATION : 4049274.6341463416\n"
     ]
    }
   ],
   "source": [
    "for genre in genres_android:\n",
    "    total = 0\n",
    "    len_genre = 0\n",
    "    for app in android_english_free:\n",
    "        genre_app = app[1]\n",
    "        if genre_app == genre:\n",
    "            n_installs = app[5]\n",
    "            n_installs = n_installs.replace('+', '')\n",
    "            n_installs = n_installs.replace(',', '')\n",
    "            total += float(n_installs)\n",
    "            len_genre += 1\n",
    "    avg_number = total/len_genre\n",
    "    print(genre, ':', avg_number)"
   ]
  },
  {
   "cell_type": "markdown",
   "id": "de4f2b6c",
   "metadata": {},
   "source": [
    "The average number of installs across various app categories shows a diverse range of user interest. Communication apps lead with the highest average installs, followed by video players and social media apps, indicating a strong preference for connectivity and media consumption. Productivity and gaming apps also show high install averages, reflecting their utility and entertainment value. In contrast, categories like medical, beauty, and events have the lowest average installs, suggesting more niche markets. Overall, the data reveals a significant inclination towards apps that facilitate social interaction, information access, and personal entertainment.\n",
    "\n",
    "To analyze further, we have a look at the apps in the most popular categories."
   ]
  },
  {
   "cell_type": "code",
   "execution_count": 109,
   "id": "50282f9e",
   "metadata": {},
   "outputs": [
    {
     "name": "stdout",
     "output_type": "stream",
     "text": [
      "WhatsApp Messenger : 1,000,000,000+\n",
      "imo beta free calls and text : 100,000,000+\n",
      "Android Messages : 100,000,000+\n",
      "Google Duo - High Quality Video Calls : 500,000,000+\n",
      "Messenger – Text and Video Chat for Free : 1,000,000,000+\n",
      "imo free video calls and chat : 500,000,000+\n",
      "Skype - free IM & video calls : 1,000,000,000+\n",
      "Who : 100,000,000+\n",
      "GO SMS Pro - Messenger, Free Themes, Emoji : 100,000,000+\n",
      "LINE: Free Calls & Messages : 500,000,000+\n",
      "Google Chrome: Fast & Secure : 1,000,000,000+\n",
      "Firefox Browser fast & private : 100,000,000+\n",
      "UC Browser - Fast Download Private & Secure : 500,000,000+\n",
      "Gmail : 1,000,000,000+\n",
      "Hangouts : 1,000,000,000+\n",
      "Messenger Lite: Free Calls & Messages : 100,000,000+\n",
      "Kik : 100,000,000+\n",
      "KakaoTalk: Free Calls & Text : 100,000,000+\n",
      "Opera Mini - fast web browser : 100,000,000+\n",
      "Opera Browser: Fast and Secure : 100,000,000+\n",
      "Telegram : 100,000,000+\n",
      "Truecaller: Caller ID, SMS spam blocking & Dialer : 100,000,000+\n",
      "UC Browser Mini -Tiny Fast Private & Secure : 100,000,000+\n",
      "Viber Messenger : 500,000,000+\n",
      "WeChat : 100,000,000+\n",
      "Yahoo Mail – Stay Organized : 100,000,000+\n",
      "BBM - Free Calls & Messages : 100,000,000+\n"
     ]
    }
   ],
   "source": [
    "for app in android_english_free:\n",
    "    category_app = app[1]\n",
    "    n_installs = app[5]\n",
    "    app_name = app[0]\n",
    "    if category_app == 'COMMUNICATION' and (n_installs == '1,000,000,000+' \n",
    "                                            or n_installs == '500,000,000+' \n",
    "                                            or n_installs == '100,000,000+'):\n",
    "\n",
    "        print(app_name,':',n_installs)"
   ]
  },
  {
   "cell_type": "markdown",
   "id": "0841721f",
   "metadata": {},
   "source": [
    "Communication apps like WhatsApp, Messenger, and Gmail dominate the Android app market with over a billion installs each."
   ]
  },
  {
   "cell_type": "code",
   "execution_count": 110,
   "id": "04537f85",
   "metadata": {},
   "outputs": [
    {
     "name": "stdout",
     "output_type": "stream",
     "text": [
      "YouTube : 1,000,000,000+\n",
      "Motorola Gallery : 100,000,000+\n",
      "VLC for Android : 100,000,000+\n",
      "Google Play Movies & TV : 1,000,000,000+\n",
      "MX Player : 500,000,000+\n",
      "Dubsmash : 100,000,000+\n",
      "VivaVideo - Video Editor & Photo Movie : 100,000,000+\n",
      "VideoShow-Video Editor, Video Maker, Beauty Camera : 100,000,000+\n",
      "Motorola FM Radio : 100,000,000+\n"
     ]
    }
   ],
   "source": [
    "for app in android_english_free:\n",
    "    category_app = app[1]\n",
    "    n_installs = app[5]\n",
    "    app_name = app[0]\n",
    "    if category_app == 'VIDEO_PLAYERS' and (n_installs == '1,000,000,000+' \n",
    "                                            or n_installs == '500,000,000+' \n",
    "                                            or n_installs == '100,000,000+'):\n",
    "\n",
    "        print(app_name,':',n_installs)"
   ]
  },
  {
   "cell_type": "markdown",
   "id": "d41b448d",
   "metadata": {},
   "source": [
    "YouTube and Google Play Movies & TV lead platforms dominate the video category with over a billion installs and showcasing their dominance in video streaming and content sharing."
   ]
  },
  {
   "cell_type": "code",
   "execution_count": 111,
   "id": "e10d7cfa",
   "metadata": {},
   "outputs": [
    {
     "name": "stdout",
     "output_type": "stream",
     "text": [
      "Facebook : 1,000,000,000+\n",
      "Facebook Lite : 500,000,000+\n",
      "Tumblr : 100,000,000+\n",
      "Pinterest : 100,000,000+\n",
      "Google+ : 1,000,000,000+\n",
      "Badoo - Free Chat & Dating App : 100,000,000+\n",
      "Tango - Live Video Broadcast : 100,000,000+\n",
      "Instagram : 1,000,000,000+\n",
      "Snapchat : 500,000,000+\n",
      "LinkedIn : 100,000,000+\n",
      "Tik Tok - including musical.ly : 100,000,000+\n",
      "BIGO LIVE - Live Stream : 100,000,000+\n",
      "VK : 100,000,000+\n"
     ]
    }
   ],
   "source": [
    "for app in android_english_free:\n",
    "    category_app = app[1]\n",
    "    n_installs = app[5]\n",
    "    app_name = app[0]\n",
    "    if category_app == 'SOCIAL' and (n_installs == '1,000,000,000+' \n",
    "                                            or n_installs == '500,000,000+' \n",
    "                                            or n_installs == '100,000,000+'):\n",
    "\n",
    "        print(app_name,':',n_installs)"
   ]
  },
  {
   "cell_type": "markdown",
   "id": "6fcf9941",
   "metadata": {},
   "source": [
    "Facebook, Instagram, and Google+ clearly leads the Social category with over a billion installs each."
   ]
  },
  {
   "cell_type": "code",
   "execution_count": 112,
   "id": "0972fbcf",
   "metadata": {},
   "outputs": [
    {
     "name": "stdout",
     "output_type": "stream",
     "text": [
      "Microsoft Word : 500000000.0\n",
      "Microsoft Outlook : 100000000.0\n",
      "Microsoft OneDrive : 100000000.0\n",
      "Calculator - unit converter : 50000000.0\n",
      "Microsoft OneNote : 100000000.0\n",
      "Google Keep : 100000000.0\n",
      "ES File Explorer File Manager : 100000000.0\n",
      "Dropbox : 500000000.0\n",
      "Google Docs : 100000000.0\n",
      "Advanced Task Killer : 50000000.0\n",
      "Microsoft PowerPoint : 100000000.0\n",
      "My Airtel-Online Recharge, Pay Bill, Wallet, UPI : 50000000.0\n",
      "Samsung Notes : 100000000.0\n",
      "Do It Later: Tasks & To-Dos : 50000000.0\n",
      "Verizon Cloud : 50000000.0\n",
      "myAT&T : 50000000.0\n",
      "SwiftKey Keyboard : 100000000.0\n",
      "MEGA : 50000000.0\n",
      "File Browser by Astro (File Manager) : 50000000.0\n",
      "Google Drive : 1000000000.0\n",
      "Adobe Acrobat Reader : 100000000.0\n",
      "Google Sheets : 100000000.0\n",
      "Microsoft Excel : 100000000.0\n",
      "WPS Office - Word, Docs, PDF, Note, Slide & Sheet : 100000000.0\n",
      "Google Slides : 100000000.0\n",
      "ColorNote Notepad Notes : 100000000.0\n",
      "Evernote – Organizer, Planner for Notes & Memos : 100000000.0\n",
      "Google Calendar : 500000000.0\n",
      "Cloud Print : 500000000.0\n",
      "Mobizen Screen Recorder - Record, Capture, Edit : 50000000.0\n",
      "QR Droid : 50000000.0\n",
      "Alarm Clock: Stopwatch & Timer : 50000000.0\n",
      "CamScanner - Phone PDF Creator : 100000000.0\n"
     ]
    }
   ],
   "source": [
    "for app in android_english_free:\n",
    "    category_app = app[1]\n",
    "    n_installs = float(app[5].replace(\"+\",'').replace(',',''))\n",
    "    app_name = app[0]\n",
    "    if category_app == 'PRODUCTIVITY' and n_installs > 10000000:\n",
    "        print(app_name,':',n_installs)\n"
   ]
  },
  {
   "cell_type": "code",
   "execution_count": 113,
   "id": "6fb3907c",
   "metadata": {},
   "outputs": [
    {
     "name": "stdout",
     "output_type": "stream",
     "text": [
      "My Claro Peru : 5000000.0\n",
      "Archos File Manager : 5000000.0\n",
      "lifebox : 5000000.0\n",
      "Yandex.Disk : 5000000.0\n",
      "Content Transfer : 5000000.0\n",
      "Microsoft Translator : 5000000.0\n",
      "Trello : 5000000.0\n",
      "The Maner : 5000000.0\n",
      "Note Everything : 5000000.0\n",
      "Keep My Notes - Notepad & Memo : 5000000.0\n",
      "Ultimate Notepad : 5000000.0\n",
      "Calendar Widget Month + Agenda : 5000000.0\n",
      "DigiCal Calendar Agenda : 5000000.0\n",
      "Business Calendar 2 : 5000000.0\n",
      "G Cloud Backup : 5000000.0\n",
      "MediaFire : 5000000.0\n",
      "EBookDroid - PDF & DJVU Reader : 5000000.0\n",
      "PDF Viewer & Book Reader : 5000000.0\n",
      "To Do List : 5000000.0\n",
      "Clean My Android : 5000000.0\n",
      "Ginger Keyboard - Emoji, GIFs, Themes & Games : 5000000.0\n"
     ]
    }
   ],
   "source": [
    "for app in android_english_free:\n",
    "    category_app = app[1]\n",
    "    n_installs = float(app[5].replace(\"+\",'').replace(',',''))\n",
    "    app_name = app[0]\n",
    "    if category_app == 'PRODUCTIVITY' and (n_installs < 10000000\n",
    "                                           and n_installs > 1000000):\n",
    "        print(app_name,':',n_installs)"
   ]
  },
  {
   "cell_type": "markdown",
   "id": "65709579",
   "metadata": {},
   "source": [
    "In the productivity category, which is also popular on the iOS App Store, the areas for further exploration in app development could be calendars, notes, or to-do lists. These seem to be quite popular, but not yet oversaturated."
   ]
  },
  {
   "cell_type": "markdown",
   "id": "fdb9b07b",
   "metadata": {},
   "source": [
    "# Summary"
   ]
  },
  {
   "cell_type": "markdown",
   "id": "4ddd4bde",
   "metadata": {},
   "source": [
    "When examining the app preferences across the Android and iOS platforms, we observe both distinct differences and notable similarities. The Android market shows a strong preference for family-oriented apps, leading with 18.91%, followed by games and tools, which are also popular categories. In contrast, the iOS market is heavily skewed towards games, occupying a significant 58.16% of the total app distribution, with entertainment and photo & video apps also being prominent.\n",
    "\n",
    "Both platforms demonstrate a clear interest in entertainment-related apps. Games are highly popular on iOS, while on Android, they are the second most popular category. Entertainment genres such as photo & video on iOS and tools for productivity on Android indicate that users on both platforms value apps that provide leisure and enhance personal efficiency.\n",
    "\n",
    "The major difference lies in the degree of concentration; the iOS market is more concentrated around games and entertainment, whereas the Android market is more evenly distributed across various categories, including family, tools, and business apps. This suggests that Android users have a broader range of interests when it comes to app usage, while iOS users are more focused on entertainment and media creation.\n",
    "\n",
    "In summary, while there are differences in the concentration of app categories between Android and iOS, with Android offering a more diverse range and iOS focusing on entertainment, both platforms cater to users’ desires for entertainment and productivity."
   ]
  }
 ],
 "metadata": {
  "kernelspec": {
   "display_name": "Python 3 (ipykernel)",
   "language": "python",
   "name": "python3"
  },
  "language_info": {
   "codemirror_mode": {
    "name": "ipython",
    "version": 3
   },
   "file_extension": ".py",
   "mimetype": "text/x-python",
   "name": "python",
   "nbconvert_exporter": "python",
   "pygments_lexer": "ipython3",
   "version": "3.11.5"
  }
 },
 "nbformat": 4,
 "nbformat_minor": 5
}
